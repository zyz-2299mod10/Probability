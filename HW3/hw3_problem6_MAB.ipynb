{
  "cells": [
    {
      "cell_type": "code",
      "source": [
        "pip install git+https://github.com/SMPyBandits/SMPyBandits.git#egg=SMPyBandits[full]"
      ],
      "metadata": {
        "collapsed": true,
        "id": "yUpfchhbMosn",
        "colab": {
          "base_uri": "https://localhost:8080/"
        },
        "outputId": "15aba615-22f1-4078-d104-896dbe5cf0c8"
      },
      "id": "yUpfchhbMosn",
      "execution_count": null,
      "outputs": [
        {
          "output_type": "stream",
          "name": "stdout",
          "text": [
            "\u001b[33mDEPRECATION: git+https://github.com/SMPyBandits/SMPyBandits.git#egg=SMPyBandits[full] contains an egg fragment with a non-PEP 508 name pip 25.0 will enforce this behaviour change. A possible replacement is to use the req @ url syntax, and remove the egg fragment. Discussion can be found at https://github.com/pypa/pip/issues/11617\u001b[0m\u001b[33m\n",
            "\u001b[0mCollecting SMPyBandits (from SMPyBandits[full])\n",
            "  Cloning https://github.com/SMPyBandits/SMPyBandits.git to /tmp/pip-install-hd3l36je/smpybandits_1b8edc8fb64b446894b105faf5d642cb\n",
            "  Running command git clone --filter=blob:none --quiet https://github.com/SMPyBandits/SMPyBandits.git /tmp/pip-install-hd3l36je/smpybandits_1b8edc8fb64b446894b105faf5d642cb\n",
            "  Resolved https://github.com/SMPyBandits/SMPyBandits.git to commit da1db4f63925c069ff8ac8e3297ebe074c762688\n",
            "  Preparing metadata (setup.py) ... \u001b[?25l\u001b[?25hdone\n",
            "Requirement already satisfied: numpy in /usr/local/lib/python3.10/dist-packages (from SMPyBandits->SMPyBandits[full]) (1.26.4)\n",
            "Requirement already satisfied: scipy>0.9 in /usr/local/lib/python3.10/dist-packages (from SMPyBandits->SMPyBandits[full]) (1.13.1)\n",
            "Requirement already satisfied: matplotlib>=2 in /usr/local/lib/python3.10/dist-packages (from SMPyBandits->SMPyBandits[full]) (3.8.0)\n",
            "Requirement already satisfied: joblib in /usr/local/lib/python3.10/dist-packages (from SMPyBandits->SMPyBandits[full]) (1.4.2)\n",
            "Requirement already satisfied: seaborn in /usr/local/lib/python3.10/dist-packages (from SMPyBandits->SMPyBandits[full]) (0.13.2)\n",
            "Requirement already satisfied: scikit-learn in /usr/local/lib/python3.10/dist-packages (from SMPyBandits->SMPyBandits[full]) (1.5.2)\n",
            "Collecting scikit-optimize (from SMPyBandits->SMPyBandits[full])\n",
            "  Downloading scikit_optimize-0.10.2-py2.py3-none-any.whl.metadata (9.7 kB)\n",
            "Requirement already satisfied: tqdm in /usr/local/lib/python3.10/dist-packages (from SMPyBandits->SMPyBandits[full]) (4.66.6)\n",
            "Requirement already satisfied: numba in /usr/local/lib/python3.10/dist-packages (from SMPyBandits->SMPyBandits[full]) (0.60.0)\n",
            "Collecting docopt (from SMPyBandits->SMPyBandits[full])\n",
            "  Downloading docopt-0.6.2.tar.gz (25 kB)\n",
            "  Preparing metadata (setup.py) ... \u001b[?25l\u001b[?25hdone\n",
            "Requirement already satisfied: ipython in /usr/local/lib/python3.10/dist-packages (from SMPyBandits->SMPyBandits[full]) (7.34.0)\n",
            "Requirement already satisfied: contourpy>=1.0.1 in /usr/local/lib/python3.10/dist-packages (from matplotlib>=2->SMPyBandits->SMPyBandits[full]) (1.3.1)\n",
            "Requirement already satisfied: cycler>=0.10 in /usr/local/lib/python3.10/dist-packages (from matplotlib>=2->SMPyBandits->SMPyBandits[full]) (0.12.1)\n",
            "Requirement already satisfied: fonttools>=4.22.0 in /usr/local/lib/python3.10/dist-packages (from matplotlib>=2->SMPyBandits->SMPyBandits[full]) (4.55.0)\n",
            "Requirement already satisfied: kiwisolver>=1.0.1 in /usr/local/lib/python3.10/dist-packages (from matplotlib>=2->SMPyBandits->SMPyBandits[full]) (1.4.7)\n",
            "Requirement already satisfied: packaging>=20.0 in /usr/local/lib/python3.10/dist-packages (from matplotlib>=2->SMPyBandits->SMPyBandits[full]) (24.2)\n",
            "Requirement already satisfied: pillow>=6.2.0 in /usr/local/lib/python3.10/dist-packages (from matplotlib>=2->SMPyBandits->SMPyBandits[full]) (11.0.0)\n",
            "Requirement already satisfied: pyparsing>=2.3.1 in /usr/local/lib/python3.10/dist-packages (from matplotlib>=2->SMPyBandits->SMPyBandits[full]) (3.2.0)\n",
            "Requirement already satisfied: python-dateutil>=2.7 in /usr/local/lib/python3.10/dist-packages (from matplotlib>=2->SMPyBandits->SMPyBandits[full]) (2.8.2)\n",
            "Requirement already satisfied: setuptools>=18.5 in /usr/local/lib/python3.10/dist-packages (from ipython->SMPyBandits->SMPyBandits[full]) (75.1.0)\n",
            "Collecting jedi>=0.16 (from ipython->SMPyBandits->SMPyBandits[full])\n",
            "  Downloading jedi-0.19.2-py2.py3-none-any.whl.metadata (22 kB)\n",
            "Requirement already satisfied: decorator in /usr/local/lib/python3.10/dist-packages (from ipython->SMPyBandits->SMPyBandits[full]) (4.4.2)\n",
            "Requirement already satisfied: pickleshare in /usr/local/lib/python3.10/dist-packages (from ipython->SMPyBandits->SMPyBandits[full]) (0.7.5)\n",
            "Requirement already satisfied: traitlets>=4.2 in /usr/local/lib/python3.10/dist-packages (from ipython->SMPyBandits->SMPyBandits[full]) (5.7.1)\n",
            "Requirement already satisfied: prompt-toolkit!=3.0.0,!=3.0.1,<3.1.0,>=2.0.0 in /usr/local/lib/python3.10/dist-packages (from ipython->SMPyBandits->SMPyBandits[full]) (3.0.48)\n",
            "Requirement already satisfied: pygments in /usr/local/lib/python3.10/dist-packages (from ipython->SMPyBandits->SMPyBandits[full]) (2.18.0)\n",
            "Requirement already satisfied: backcall in /usr/local/lib/python3.10/dist-packages (from ipython->SMPyBandits->SMPyBandits[full]) (0.2.0)\n",
            "Requirement already satisfied: matplotlib-inline in /usr/local/lib/python3.10/dist-packages (from ipython->SMPyBandits->SMPyBandits[full]) (0.1.7)\n",
            "Requirement already satisfied: pexpect>4.3 in /usr/local/lib/python3.10/dist-packages (from ipython->SMPyBandits->SMPyBandits[full]) (4.9.0)\n",
            "Requirement already satisfied: llvmlite<0.44,>=0.43.0dev0 in /usr/local/lib/python3.10/dist-packages (from numba->SMPyBandits->SMPyBandits[full]) (0.43.0)\n",
            "Requirement already satisfied: threadpoolctl>=3.1.0 in /usr/local/lib/python3.10/dist-packages (from scikit-learn->SMPyBandits->SMPyBandits[full]) (3.5.0)\n",
            "Collecting pyaml>=16.9 (from scikit-optimize->SMPyBandits->SMPyBandits[full])\n",
            "  Downloading pyaml-24.9.0-py3-none-any.whl.metadata (11 kB)\n",
            "Requirement already satisfied: pandas>=1.2 in /usr/local/lib/python3.10/dist-packages (from seaborn->SMPyBandits->SMPyBandits[full]) (2.2.2)\n",
            "Requirement already satisfied: parso<0.9.0,>=0.8.4 in /usr/local/lib/python3.10/dist-packages (from jedi>=0.16->ipython->SMPyBandits->SMPyBandits[full]) (0.8.4)\n",
            "Requirement already satisfied: pytz>=2020.1 in /usr/local/lib/python3.10/dist-packages (from pandas>=1.2->seaborn->SMPyBandits->SMPyBandits[full]) (2024.2)\n",
            "Requirement already satisfied: tzdata>=2022.7 in /usr/local/lib/python3.10/dist-packages (from pandas>=1.2->seaborn->SMPyBandits->SMPyBandits[full]) (2024.2)\n",
            "Requirement already satisfied: ptyprocess>=0.5 in /usr/local/lib/python3.10/dist-packages (from pexpect>4.3->ipython->SMPyBandits->SMPyBandits[full]) (0.7.0)\n",
            "Requirement already satisfied: wcwidth in /usr/local/lib/python3.10/dist-packages (from prompt-toolkit!=3.0.0,!=3.0.1,<3.1.0,>=2.0.0->ipython->SMPyBandits->SMPyBandits[full]) (0.2.13)\n",
            "Requirement already satisfied: PyYAML in /usr/local/lib/python3.10/dist-packages (from pyaml>=16.9->scikit-optimize->SMPyBandits->SMPyBandits[full]) (6.0.2)\n",
            "Requirement already satisfied: six>=1.5 in /usr/local/lib/python3.10/dist-packages (from python-dateutil>=2.7->matplotlib>=2->SMPyBandits->SMPyBandits[full]) (1.16.0)\n",
            "Downloading scikit_optimize-0.10.2-py2.py3-none-any.whl (107 kB)\n",
            "\u001b[2K   \u001b[90m━━━━━━━━━━━━━━━━━━━━━━━━━━━━━━━━━━━━━━━━\u001b[0m \u001b[32m107.8/107.8 kB\u001b[0m \u001b[31m5.6 MB/s\u001b[0m eta \u001b[36m0:00:00\u001b[0m\n",
            "\u001b[?25hDownloading jedi-0.19.2-py2.py3-none-any.whl (1.6 MB)\n",
            "\u001b[2K   \u001b[90m━━━━━━━━━━━━━━━━━━━━━━━━━━━━━━━━━━━━━━━━\u001b[0m \u001b[32m1.6/1.6 MB\u001b[0m \u001b[31m43.0 MB/s\u001b[0m eta \u001b[36m0:00:00\u001b[0m\n",
            "\u001b[?25hDownloading pyaml-24.9.0-py3-none-any.whl (24 kB)\n",
            "Building wheels for collected packages: SMPyBandits, docopt\n",
            "  Building wheel for SMPyBandits (setup.py) ... \u001b[?25l\u001b[?25hdone\n",
            "  Created wheel for SMPyBandits: filename=SMPyBandits-0.9.7-py2.py3-none-any.whl size=564221 sha256=3179fd01f347977683fb6b856ea8524489adaba75679ca198ee594217f3ce77b\n",
            "  Stored in directory: /tmp/pip-ephem-wheel-cache-c8bizsih/wheels/e0/0d/46/04dfc3683a4a5a17c79d5b7c73bc751cff1b530cad3f597790\n",
            "  Building wheel for docopt (setup.py) ... \u001b[?25l\u001b[?25hdone\n",
            "  Created wheel for docopt: filename=docopt-0.6.2-py2.py3-none-any.whl size=13706 sha256=f231aa237533cad424e60709d05c083ff215b7a9431cfbd95daf286c5772602e\n",
            "  Stored in directory: /root/.cache/pip/wheels/fc/ab/d4/5da2067ac95b36618c629a5f93f809425700506f72c9732fac\n",
            "Successfully built SMPyBandits docopt\n",
            "Installing collected packages: docopt, pyaml, jedi, scikit-optimize, SMPyBandits\n",
            "Successfully installed SMPyBandits-0.9.7 docopt-0.6.2 jedi-0.19.2 pyaml-24.9.0 scikit-optimize-0.10.2\n"
          ]
        }
      ]
    },
    {
      "cell_type": "code",
      "execution_count": null,
      "id": "1125b282-6f27-4510-be72-dbae13797e35",
      "metadata": {
        "id": "1125b282-6f27-4510-be72-dbae13797e35",
        "colab": {
          "base_uri": "https://localhost:8080/"
        },
        "outputId": "dd59b67f-a5df-43a1-be6d-c245490f2ecd"
      },
      "outputs": [
        {
          "output_type": "stream",
          "name": "stdout",
          "text": [
            "Warning: numba.jit seems to not be available. Using a dummy decorator for numba.jit() ...\n",
            "If you want the speed up brought by numba.jit, try to manually install numba and check that it works (installing llvmlite can be tricky, cf. https://github.com/numba/numba#custom-python-environments\n",
            "Warning: numba.jit seems to not be available. Using a dummy decorator for numba.jit() ...\n",
            "If you want the speed up brought by numba.jit, try to manually install numba and check that it works (installing llvmlite can be tricky, cf. https://github.com/numba/numba#custom-python-environments\n"
          ]
        }
      ],
      "source": [
        "import numpy.random as rn\n",
        "from random import random\n",
        "import numpy as np\n",
        "# Local imports\n",
        "from SMPyBandits.Environment import Evaluator, tqdm\n",
        "# Import arms\n",
        "from SMPyBandits.Arms import Bernoulli\n"
      ]
    },
    {
      "cell_type": "code",
      "execution_count": null,
      "id": "7bf27801-cd20-4a02-8ea8-fd9ac04bd7f0",
      "metadata": {
        "id": "7bf27801-cd20-4a02-8ea8-fd9ac04bd7f0"
      },
      "outputs": [],
      "source": [
        "# Import algorithms\n",
        "from SMPyBandits.Policies import EmpiricalMeans, EpsilonGreedy, UCB\n",
        "from SMPyBandits.Policies.IndexPolicy import IndexPolicy\n",
        "from SMPyBandits.Policies.BasePolicy import BasePolicy\n",
        "from SMPyBandits.Policies.with_proba import with_proba"
      ]
    },
    {
      "cell_type": "code",
      "execution_count": null,
      "id": "7831206c-ac23-4adf-b2ec-03bc82751f99",
      "metadata": {
        "id": "7831206c-ac23-4adf-b2ec-03bc82751f99"
      },
      "outputs": [],
      "source": [
        "#EmpiricalMeans?"
      ]
    },
    {
      "cell_type": "code",
      "execution_count": null,
      "id": "ea8a1420-f113-44a3-bd34-bfb90f408d12",
      "metadata": {
        "id": "ea8a1420-f113-44a3-bd34-bfb90f408d12"
      },
      "outputs": [],
      "source": [
        "#EmpiricalMeans??"
      ]
    },
    {
      "cell_type": "code",
      "execution_count": null,
      "id": "032fcdbd-41e3-47d9-afea-8dd2dadc43b1",
      "metadata": {
        "id": "032fcdbd-41e3-47d9-afea-8dd2dadc43b1"
      },
      "outputs": [],
      "source": [
        "# MAB environment parameters\n",
        "HORIZON = 10000\n",
        "REPETITIONS = 100 # Number of repetition of the experiment (to have an average)\n",
        "N_JOBS = 1 # Number of CPU cores\n",
        "\n",
        "#: Default value for epsilon for `YourEpsilonGreedy`\n",
        "EPSILON = 0.01"
      ]
    },
    {
      "cell_type": "code",
      "execution_count": null,
      "id": "b1e20b8f-ba82-49a5-945d-ed35b7a1d0c2",
      "metadata": {
        "id": "b1e20b8f-ba82-49a5-945d-ed35b7a1d0c2"
      },
      "outputs": [],
      "source": [
        "ENVIRONMENTS = [  # 1)  Bernoulli arms\n",
        "        {   # An easy but widely adopted problem\n",
        "            \"arm_type\": Bernoulli,\n",
        "            \"params\": [0.1, 0.2, 0.3, 0.4, 0.5, 0.6, 0.7, 0.8, 0.9]\n",
        "        },\n",
        "        {   # An other problem, best arm = last, with three groups: very bad arms (0.01, 0.02), middle arms (0.3 - 0.6) and very good arms (0.78, 0.8, 0.82)\n",
        "            \"arm_type\": Bernoulli,\n",
        "            \"params\": [0.01, 0.02, 0.3, 0.4, 0.5, 0.6, 0.795, 0.8, 0.805]\n",
        "        },\n",
        "        {   # A very hard problem, as used in [Cappé et al, 2012]\n",
        "            \"arm_type\": Bernoulli,\n",
        "            \"params\": [0.01, 0.01, 0.01, 0.02, 0.02, 0.02, 0.05, 0.05, 0.1]\n",
        "        },\n",
        "    ]"
      ]
    },
    {
      "cell_type": "markdown",
      "source": [
        "# (a)"
      ],
      "metadata": {
        "id": "AiRD2vTxrgDc"
      },
      "id": "AiRD2vTxrgDc"
    },
    {
      "cell_type": "code",
      "execution_count": null,
      "id": "0b0740d6-6b39-4f68-9067-bbfe464ae779",
      "metadata": {
        "id": "0b0740d6-6b39-4f68-9067-bbfe464ae779"
      },
      "outputs": [],
      "source": [
        "\n",
        "class YourEpsilonGreedy(BasePolicy):\n",
        "    \"\"\" The epsilon-greedy random policy.\n",
        "    \"\"\"\n",
        "\n",
        "    def __init__(self, nbArms, epsilon=EPSILON, lower=0., amplitude=1.):\n",
        "        super(YourEpsilonGreedy, self).__init__(nbArms, lower=lower, amplitude=amplitude)\n",
        "        assert 0 <= epsilon <= 1, \"Error: the 'epsilon' parameter for YourEpsilonGreedy has to be in [0, 1].\"  # For DEBUG\n",
        "        self._epsilon = epsilon\n",
        "\n",
        "\n",
        "    # This decorator @property makes this method an attribute, cf. https://docs.python.org/3/library/functions.html#property\n",
        "    @property\n",
        "    def epsilon(self):  # This allows us to use time-dependent epsilon coef\n",
        "        return self._epsilon\n",
        "\n",
        "    def choice(self):\n",
        "        \"\"\"With a probability of epsilon, explore (uniform choice), otherwhise exploit based on  empirical mean rewards.\"\"\"\n",
        "        #----------Your Code----------#\n",
        "        if random() < self.epsilon:  # Explore\n",
        "            return rn.randint(0, self.nbArms)\n",
        "        else:  # Exploit\n",
        "            if self.pulls.sum() == 0:  # If no pulls yet, explore randomly\n",
        "                return rn.randint(0, self.nbArms)\n",
        "            else:\n",
        "                # Calculate empirical means\n",
        "                means = self.rewards / self.pulls\n",
        "                return np.argmax(means)\n",
        "        #----------End of Your Code----------#\n"
      ]
    },
    {
      "cell_type": "code",
      "execution_count": null,
      "id": "0a7e9d85-d66e-4770-8627-f95575ec847d",
      "metadata": {
        "id": "0a7e9d85-d66e-4770-8627-f95575ec847d"
      },
      "outputs": [],
      "source": [
        "POLICIES = [\n",
        "        # --- EmpiricalMeans (or Greedy) algorithm, a baseline for comparison\n",
        "        {\n",
        "            \"archtype\": EmpiricalMeans,\n",
        "            \"params\": {}\n",
        "        },\n",
        "        # --- UCB algorithm, a baseline for comparison\n",
        "        {\n",
        "            \"archtype\": UCB,\n",
        "            \"params\": {}\n",
        "        },\n",
        "        # --- YourEpsilonGreedy algorithm\n",
        "        {\n",
        "            \"archtype\": YourEpsilonGreedy,\n",
        "            \"params\": {}\n",
        "        },\n",
        "    ]"
      ]
    },
    {
      "cell_type": "code",
      "execution_count": null,
      "id": "642164b3-aed0-4a29-8f07-e4af50afa2af",
      "metadata": {
        "colab": {
          "base_uri": "https://localhost:8080/"
        },
        "id": "642164b3-aed0-4a29-8f07-e4af50afa2af",
        "outputId": "f2eeb878-deb1-4488-975b-ed82121a2f5e"
      },
      "outputs": [
        {
          "output_type": "execute_result",
          "data": {
            "text/plain": [
              "{'horizon': 10000,\n",
              " 'repetitions': 100,\n",
              " 'n_jobs': 1,\n",
              " 'verbosity': 6,\n",
              " 'environment': [{'arm_type': SMPyBandits.Arms.Bernoulli.Bernoulli,\n",
              "   'params': [0.1, 0.2, 0.3, 0.4, 0.5, 0.6, 0.7, 0.8, 0.9]},\n",
              "  {'arm_type': SMPyBandits.Arms.Bernoulli.Bernoulli,\n",
              "   'params': [0.01, 0.02, 0.3, 0.4, 0.5, 0.6, 0.795, 0.8, 0.805]},\n",
              "  {'arm_type': SMPyBandits.Arms.Bernoulli.Bernoulli,\n",
              "   'params': [0.01, 0.01, 0.01, 0.02, 0.02, 0.02, 0.05, 0.05, 0.1]}],\n",
              " 'policies': [{'archtype': SMPyBandits.Policies.EmpiricalMeans.EmpiricalMeans,\n",
              "   'params': {}},\n",
              "  {'archtype': SMPyBandits.Policies.UCB.UCB, 'params': {}},\n",
              "  {'archtype': __main__.YourEpsilonGreedy, 'params': {}}]}"
            ]
          },
          "metadata": {},
          "execution_count": 55
        }
      ],
      "source": [
        "configuration = {\n",
        "    # --- Duration of the experiment\n",
        "    \"horizon\": HORIZON,\n",
        "    # --- Number of repetition of the experiment (to have an average)\n",
        "    \"repetitions\": REPETITIONS,\n",
        "    # --- Parameters for the use of joblib.Parallel\n",
        "    \"n_jobs\": N_JOBS,    # Number of CPU cores\n",
        "    \"verbosity\": 6,      # Max joblib verbosity\n",
        "    # --- Arms\n",
        "    \"environment\": ENVIRONMENTS,\n",
        "    # --- Algorithms\n",
        "    \"policies\": POLICIES,\n",
        "}\n",
        "configuration"
      ]
    },
    {
      "cell_type": "code",
      "execution_count": null,
      "id": "7375bc61-62cb-424e-b97e-4ad378b6e461",
      "metadata": {
        "id": "7375bc61-62cb-424e-b97e-4ad378b6e461"
      },
      "outputs": [],
      "source": [
        "# Creating the Evaluator object\n",
        "evaluation = Evaluator(configuration)"
      ]
    },
    {
      "cell_type": "code",
      "execution_count": null,
      "id": "ad94d023-8ca4-4dd1-8083-73039a678620",
      "metadata": {
        "id": "ad94d023-8ca4-4dd1-8083-73039a678620"
      },
      "outputs": [],
      "source": [
        "for envId, env in tqdm(enumerate(evaluation.envs), desc=\"Problems\"):\n",
        "    # Evaluate just that env\n",
        "    evaluation.startOneEnv(envId, env)"
      ]
    },
    {
      "cell_type": "code",
      "execution_count": null,
      "id": "7bec37ad-ff87-4f28-9569-cb1058a4f703",
      "metadata": {
        "id": "7bec37ad-ff87-4f28-9569-cb1058a4f703"
      },
      "outputs": [],
      "source": [
        "def plotAll(evaluation, envId):\n",
        "    evaluation.printFinalRanking(envId)\n",
        "    evaluation.plotRegrets(envId)"
      ]
    },
    {
      "cell_type": "code",
      "execution_count": null,
      "id": "297c6927-3d39-4836-8c09-007f92dc72be",
      "metadata": {
        "id": "297c6927-3d39-4836-8c09-007f92dc72be"
      },
      "outputs": [],
      "source": [
        "envId = 1\n",
        "plotAll(evaluation, envId)"
      ]
    },
    {
      "cell_type": "markdown",
      "source": [
        "# (b)"
      ],
      "metadata": {
        "id": "x6ZAMACRriAj"
      },
      "id": "x6ZAMACRriAj"
    },
    {
      "cell_type": "code",
      "execution_count": null,
      "metadata": {
        "id": "kZ3rdAwbrnxY"
      },
      "outputs": [],
      "source": [
        "class YourEpsilonGreedy(BasePolicy):\n",
        "    \"\"\" The epsilon-greedy random policy.\n",
        "    \"\"\"\n",
        "\n",
        "    def __init__(self, nbArms, alpha=2.0, epsilon=EPSILON, lower=0., amplitude=1.):\n",
        "        super(YourEpsilonGreedy, self).__init__(nbArms, lower=lower, amplitude=amplitude)\n",
        "        assert 0 <= epsilon <= 1, \"Error: the 'epsilon' parameter for YourEpsilonGreedy has to be in [0, 1].\"  # For DEBUG\n",
        "        self.alpha = alpha\n",
        "        self._epsilon = 1\n",
        "\n",
        "\n",
        "    # This decorator @property makes this method an attribute, cf. https://docs.python.org/3/library/functions.html#property\n",
        "    @property\n",
        "    def epsilon(self):  # This allows us to use time-dependent epsilon coef\n",
        "        return self._epsilon\n",
        "\n",
        "    def choice(self):\n",
        "        \"\"\"With a probability of epsilon, explore (uniform choice), otherwhise exploit based on  empirical mean rewards.\"\"\"\n",
        "        #----------Your Code----------#\n",
        "        t = self.pulls.sum()\n",
        "        self._epsilon = t**(-self.alpha)\n",
        "\n",
        "        if random() < self.epsilon:  # Explore\n",
        "            return rn.randint(0, self.nbArms)\n",
        "        else:  # Exploit\n",
        "            if self.pulls.sum() == 0:  # If no pulls yet, explore randomly\n",
        "                return rn.randint(0, self.nbArms)\n",
        "            else:\n",
        "                # Calculate empirical means\n",
        "                means = self.rewards / self.pulls\n",
        "                return np.argmax(means)\n",
        "        #----------End of Your Code----------#\n"
      ],
      "id": "kZ3rdAwbrnxY"
    },
    {
      "cell_type": "code",
      "execution_count": null,
      "metadata": {
        "id": "py2gF6DSrnxY"
      },
      "outputs": [],
      "source": [
        "POLICIES = [\n",
        "        # # --- EmpiricalMeans (or Greedy) algorithm, a baseline for comparison\n",
        "        # {\n",
        "        #     \"archtype\": EmpiricalMeans,\n",
        "        #     \"params\": {}\n",
        "        # },\n",
        "        # # --- UCB algorithm, a baseline for comparison\n",
        "        # {\n",
        "        #     \"archtype\": UCB,\n",
        "        #     \"params\": {}\n",
        "        # },\n",
        "        # --- YourEpsilonGreedy algorithm\n",
        "        {\n",
        "            \"archtype\": YourEpsilonGreedy,\n",
        "            \"params\": {}\n",
        "        },\n",
        "    ]"
      ],
      "id": "py2gF6DSrnxY"
    },
    {
      "cell_type": "code",
      "execution_count": null,
      "metadata": {
        "colab": {
          "base_uri": "https://localhost:8080/"
        },
        "outputId": "138ff5c2-dcc2-4084-9050-0b73fd1321d4",
        "id": "HzTYluENrnxY"
      },
      "outputs": [
        {
          "output_type": "execute_result",
          "data": {
            "text/plain": [
              "{'horizon': 10000,\n",
              " 'repetitions': 100,\n",
              " 'n_jobs': 1,\n",
              " 'verbosity': 6,\n",
              " 'environment': [{'arm_type': SMPyBandits.Arms.Bernoulli.Bernoulli,\n",
              "   'params': [0.1, 0.2, 0.3, 0.4, 0.5, 0.6, 0.7, 0.8, 0.9]},\n",
              "  {'arm_type': SMPyBandits.Arms.Bernoulli.Bernoulli,\n",
              "   'params': [0.01, 0.02, 0.3, 0.4, 0.5, 0.6, 0.795, 0.8, 0.805]},\n",
              "  {'arm_type': SMPyBandits.Arms.Bernoulli.Bernoulli,\n",
              "   'params': [0.01, 0.01, 0.01, 0.02, 0.02, 0.02, 0.05, 0.05, 0.1]}],\n",
              " 'policies': [{'archtype': __main__.YourEpsilonGreedy, 'params': {}}]}"
            ]
          },
          "metadata": {},
          "execution_count": 104
        }
      ],
      "source": [
        "configuration = {\n",
        "    # --- Duration of the experiment\n",
        "    \"horizon\": HORIZON,\n",
        "    # --- Number of repetition of the experiment (to have an average)\n",
        "    \"repetitions\": REPETITIONS,\n",
        "    # --- Parameters for the use of joblib.Parallel\n",
        "    \"n_jobs\": N_JOBS,    # Number of CPU cores\n",
        "    \"verbosity\": 6,      # Max joblib verbosity\n",
        "    # --- Arms\n",
        "    \"environment\": ENVIRONMENTS,\n",
        "    # --- Algorithms\n",
        "    \"policies\": POLICIES,\n",
        "}\n",
        "configuration"
      ],
      "id": "HzTYluENrnxY"
    },
    {
      "cell_type": "code",
      "execution_count": null,
      "metadata": {
        "colab": {
          "base_uri": "https://localhost:8080/"
        },
        "collapsed": true,
        "outputId": "323913e3-687c-4b24-cf8f-e356bba68201",
        "id": "sn03wmCkrnxZ"
      },
      "outputs": [
        {
          "output_type": "stream",
          "name": "stdout",
          "text": [
            "Number of policies in this comparison: 1\n",
            "Time horizon: 10000\n",
            "Number of repetitions: 100\n",
            "Sampling rate for plotting, delta_t_plot: 1\n",
            "Number of jobs for parallelization: 1\n",
            "Using this dictionary to create a new environment:\n",
            " {'arm_type': <class 'SMPyBandits.Arms.Bernoulli.Bernoulli'>, 'params': [0.1, 0.2, 0.3, 0.4, 0.5, 0.6, 0.7, 0.8, 0.9]}\n",
            "\n",
            "\n",
            "Creating a new MAB problem ...\n",
            "  Reading arms of this MAB problem from a dictionnary 'configuration' = {'arm_type': <class 'SMPyBandits.Arms.Bernoulli.Bernoulli'>, 'params': [0.1, 0.2, 0.3, 0.4, 0.5, 0.6, 0.7, 0.8, 0.9]} ...\n",
            " - with 'arm_type' = <class 'SMPyBandits.Arms.Bernoulli.Bernoulli'>\n",
            " - with 'params' = [0.1, 0.2, 0.3, 0.4, 0.5, 0.6, 0.7, 0.8, 0.9]\n",
            " - with 'arms' = [B(0.1), B(0.2), B(0.3), B(0.4), B(0.5), B(0.6), B(0.7), B(0.8), B(0.9)]\n",
            " - with 'means' = [0.1 0.2 0.3 0.4 0.5 0.6 0.7 0.8 0.9]\n",
            " - with 'nbArms' = 9\n",
            " - with 'maxArm' = 0.9\n",
            " - with 'minArm' = 0.1\n",
            "\n",
            "This MAB problem has: \n",
            " - a [Lai & Robbins] complexity constant C(mu) = 7.52 ... \n",
            " - a Optimal Arm Identification factor H_OI(mu) = 48.89% ...\n",
            " - with 'arms' represented as: $[B(0.1), B(0.2), B(0.3), B(0.4), B(0.5), B(0.6), B(0.7), B(0.8), B(0.9)^*]$\n",
            "Using this dictionary to create a new environment:\n",
            " {'arm_type': <class 'SMPyBandits.Arms.Bernoulli.Bernoulli'>, 'params': [0.01, 0.02, 0.3, 0.4, 0.5, 0.6, 0.795, 0.8, 0.805]}\n",
            "\n",
            "\n",
            "Creating a new MAB problem ...\n",
            "  Reading arms of this MAB problem from a dictionnary 'configuration' = {'arm_type': <class 'SMPyBandits.Arms.Bernoulli.Bernoulli'>, 'params': [0.01, 0.02, 0.3, 0.4, 0.5, 0.6, 0.795, 0.8, 0.805]} ...\n",
            " - with 'arm_type' = <class 'SMPyBandits.Arms.Bernoulli.Bernoulli'>\n",
            " - with 'params' = [0.01, 0.02, 0.3, 0.4, 0.5, 0.6, 0.795, 0.8, 0.805]\n",
            " - with 'arms' = [B(0.01), B(0.02), B(0.3), B(0.4), B(0.5), B(0.6), B(0.795), B(0.8), B(0.805)]\n",
            " - with 'means' = [0.01  0.02  0.3   0.4   0.5   0.6   0.795 0.8   0.805]\n",
            " - with 'nbArms' = 9\n",
            " - with 'maxArm' = 0.805\n",
            " - with 'minArm' = 0.01\n",
            "\n",
            "This MAB problem has: \n",
            " - a [Lai & Robbins] complexity constant C(mu) = 101 ... \n",
            " - a Optimal Arm Identification factor H_OI(mu) = 55.39% ...\n",
            " - with 'arms' represented as: $[B(0.01), B(0.02), B(0.3), B(0.4), B(0.5), B(0.6), B(0.795), B(0.8), B(0.805)^*]$\n",
            "Using this dictionary to create a new environment:\n",
            " {'arm_type': <class 'SMPyBandits.Arms.Bernoulli.Bernoulli'>, 'params': [0.01, 0.01, 0.01, 0.02, 0.02, 0.02, 0.05, 0.05, 0.1]}\n",
            "\n",
            "\n",
            "Creating a new MAB problem ...\n",
            "  Reading arms of this MAB problem from a dictionnary 'configuration' = {'arm_type': <class 'SMPyBandits.Arms.Bernoulli.Bernoulli'>, 'params': [0.01, 0.01, 0.01, 0.02, 0.02, 0.02, 0.05, 0.05, 0.1]} ...\n",
            " - with 'arm_type' = <class 'SMPyBandits.Arms.Bernoulli.Bernoulli'>\n",
            " - with 'params' = [0.01, 0.01, 0.01, 0.02, 0.02, 0.02, 0.05, 0.05, 0.1]\n",
            " - with 'arms' = [B(0.01), B(0.01), B(0.01), B(0.02), B(0.02), B(0.02), B(0.05), B(0.05), B(0.1)]\n",
            " - with 'means' = [0.01 0.01 0.01 0.02 0.02 0.02 0.05 0.05 0.1 ]\n",
            " - with 'nbArms' = 9\n",
            " - with 'maxArm' = 0.1\n",
            " - with 'minArm' = 0.01\n",
            "\n",
            "This MAB problem has: \n",
            " - a [Lai & Robbins] complexity constant C(mu) = 14.5 ... \n",
            " - a Optimal Arm Identification factor H_OI(mu) = 82.11% ...\n",
            " - with 'arms' represented as: $[B(0.01), B(0.01), B(0.01), B(0.02), B(0.02), B(0.02), B(0.05), B(0.05), B(0.1)^*]$\n",
            "Number of environments to try: 3\n"
          ]
        }
      ],
      "source": [
        "# Creating the Evaluator object\n",
        "evaluation = Evaluator(configuration)"
      ],
      "id": "sn03wmCkrnxZ"
    },
    {
      "cell_type": "code",
      "execution_count": null,
      "metadata": {
        "colab": {
          "base_uri": "https://localhost:8080/"
        },
        "outputId": "bb7ae7fc-0c84-4b54-f377-7ff0636318a0",
        "id": "bUxHHQz7rnxZ"
      },
      "outputs": [
        {
          "output_type": "stream",
          "name": "stderr",
          "text": [
            "\rProblems: 0it [00:00, ?it/s]"
          ]
        },
        {
          "output_type": "stream",
          "name": "stdout",
          "text": [
            "\n",
            "\n",
            "Evaluating environment: MAB(nbArms: 9, arms: [B(0.1), B(0.2), B(0.3), B(0.4), B(0.5), B(0.6), B(0.7), B(0.8), B(0.9)], minArm: 0.1, maxArm: 0.9)\n",
            "- Adding policy #1 = {'archtype': <class '__main__.YourEpsilonGreedy'>, 'params': {}} ...\n",
            "  Creating this policy from a dictionnary 'self.cfg['policies'][0]' = {'archtype': <class '__main__.YourEpsilonGreedy'>, 'params': {}} ...\n",
            "\n",
            "\n",
            "\n",
            "- Evaluating policy #1/1: YourEpsilonGreedy ...\n"
          ]
        },
        {
          "output_type": "stream",
          "name": "stderr",
          "text": [
            "\n",
            "Repeat:   0%|          | 0/100 [00:00<?, ?it/s]\u001b[A\n",
            "\n",
            "Time t:   0%|          | 0/10000 [00:00<?, ?it/s]\u001b[A\u001b[A\n",
            "\n",
            "Time t: 100%|██████████| 10000/10000 [00:00<00:00, 52903.21it/s]\n",
            "\n",
            "Repeat:   1%|          | 1/100 [00:00<00:21,  4.61it/s]\u001b[A"
          ]
        },
        {
          "output_type": "stream",
          "name": "stdout",
          "text": [
            "\n",
            "Estimated order by the policy YourEpsilonGreedy after 10000 steps: [1 5 8 6 0 4 7 3 2] ...\n",
            "  ==> Optimal arm identification: 33.33% (relative success)...\n",
            "  ==> Mean distance from optimal ordering: 29.63% (relative success)...\n"
          ]
        },
        {
          "output_type": "stream",
          "name": "stderr",
          "text": [
            "\n",
            "Repeat:   2%|▏         | 2/100 [00:00<00:22,  4.44it/s]\u001b[A\n",
            "Repeat:   3%|▎         | 3/100 [00:00<00:24,  3.93it/s]\u001b[A\n",
            "Repeat:   4%|▍         | 4/100 [00:01<00:31,  3.03it/s]\u001b[A\n",
            "Repeat:   5%|▌         | 5/100 [00:01<00:29,  3.25it/s]\u001b[A\n",
            "Repeat:   6%|▌         | 6/100 [00:01<00:27,  3.46it/s]\u001b[A\n",
            "Repeat:   7%|▋         | 7/100 [00:01<00:26,  3.55it/s]\u001b[A\n",
            "Repeat:   8%|▊         | 8/100 [00:02<00:25,  3.56it/s]\u001b[A\n",
            "Repeat:   9%|▉         | 9/100 [00:02<00:25,  3.55it/s]\u001b[A\n",
            "Repeat:  10%|█         | 10/100 [00:02<00:25,  3.52it/s]\u001b[A\n",
            "Repeat:  11%|█         | 11/100 [00:03<00:25,  3.43it/s]\u001b[A\n",
            "Repeat:  12%|█▏        | 12/100 [00:03<00:26,  3.38it/s]\u001b[A\n",
            "Repeat:  13%|█▎        | 13/100 [00:03<00:25,  3.38it/s]\u001b[A\n",
            "Repeat:  14%|█▍        | 14/100 [00:04<00:26,  3.31it/s]\u001b[A\n",
            "Repeat:  15%|█▌        | 15/100 [00:04<00:22,  3.73it/s]\u001b[A\n",
            "Repeat:  16%|█▌        | 16/100 [00:04<00:20,  4.12it/s]\u001b[A\n",
            "Repeat:  17%|█▋        | 17/100 [00:04<00:18,  4.56it/s]\u001b[A\n",
            "Repeat:  18%|█▊        | 18/100 [00:04<00:16,  4.91it/s]\u001b[A\n",
            "Repeat:  19%|█▉        | 19/100 [00:04<00:16,  4.89it/s]\u001b[A\n",
            "Repeat:  20%|██        | 20/100 [00:05<00:15,  5.20it/s]\u001b[A\n",
            "Repeat:  21%|██        | 21/100 [00:05<00:14,  5.33it/s]\u001b[A\n",
            "Repeat:  22%|██▏       | 22/100 [00:05<00:14,  5.55it/s]\u001b[A\n",
            "Repeat:  23%|██▎       | 23/100 [00:05<00:13,  5.62it/s]\u001b[A\n",
            "Repeat:  24%|██▍       | 24/100 [00:05<00:13,  5.71it/s]\u001b[A\n",
            "Repeat:  25%|██▌       | 25/100 [00:06<00:13,  5.55it/s]\u001b[A\n",
            "Repeat:  26%|██▌       | 26/100 [00:06<00:12,  5.73it/s]\u001b[A\n",
            "Repeat:  27%|██▋       | 27/100 [00:06<00:12,  5.66it/s]\u001b[A\n",
            "Repeat:  28%|██▊       | 28/100 [00:06<00:12,  5.55it/s]\u001b[A\n",
            "Repeat:  29%|██▉       | 29/100 [00:06<00:12,  5.68it/s]\u001b[A\n",
            "Repeat:  30%|███       | 30/100 [00:06<00:12,  5.63it/s]\u001b[A\n",
            "Repeat:  31%|███       | 31/100 [00:07<00:12,  5.66it/s]\u001b[A\n",
            "Repeat:  32%|███▏      | 32/100 [00:07<00:11,  5.78it/s]\u001b[A\n",
            "Repeat:  33%|███▎      | 33/100 [00:07<00:12,  5.57it/s]\u001b[A\n",
            "Repeat:  34%|███▍      | 34/100 [00:07<00:11,  5.76it/s]\u001b[A\n",
            "Repeat:  35%|███▌      | 35/100 [00:07<00:11,  5.72it/s]\u001b[A\n",
            "Repeat:  36%|███▌      | 36/100 [00:07<00:11,  5.64it/s]\u001b[A\n",
            "Repeat:  37%|███▋      | 37/100 [00:08<00:10,  5.74it/s]\u001b[A\n",
            "Repeat:  38%|███▊      | 38/100 [00:08<00:10,  5.70it/s]\u001b[A\n",
            "Repeat:  39%|███▉      | 39/100 [00:08<00:10,  5.71it/s]\u001b[A\n",
            "Repeat:  40%|████      | 40/100 [00:08<00:10,  5.85it/s]\u001b[A\n",
            "Repeat:  41%|████      | 41/100 [00:08<00:10,  5.85it/s]\u001b[A\n",
            "Repeat:  42%|████▏     | 42/100 [00:08<00:10,  5.59it/s]\u001b[A\n",
            "Repeat:  43%|████▎     | 43/100 [00:09<00:09,  5.70it/s]\u001b[A\n",
            "Repeat:  44%|████▍     | 44/100 [00:09<00:09,  5.85it/s]\u001b[A\n",
            "Repeat:  45%|████▌     | 45/100 [00:09<00:09,  5.70it/s]\u001b[A\n",
            "Repeat:  46%|████▌     | 46/100 [00:09<00:09,  5.86it/s]\u001b[A\n",
            "Repeat:  47%|████▋     | 47/100 [00:09<00:09,  5.85it/s]\u001b[A\n",
            "Repeat:  48%|████▊     | 48/100 [00:10<00:09,  5.72it/s]\u001b[A\n",
            "Repeat:  49%|████▉     | 49/100 [00:10<00:08,  5.86it/s]\u001b[A\n",
            "Repeat:  50%|█████     | 50/100 [00:10<00:08,  5.83it/s]\u001b[A\n",
            "Repeat:  51%|█████     | 51/100 [00:10<00:08,  5.73it/s]\u001b[A\n",
            "Repeat:  52%|█████▏    | 52/100 [00:10<00:08,  5.81it/s]\u001b[A\n",
            "Repeat:  53%|█████▎    | 53/100 [00:10<00:08,  5.69it/s]\u001b[A\n",
            "Repeat:  54%|█████▍    | 54/100 [00:11<00:08,  5.67it/s]\u001b[A\n",
            "Repeat:  55%|█████▌    | 55/100 [00:11<00:07,  5.76it/s]\u001b[A\n",
            "Repeat:  56%|█████▌    | 56/100 [00:11<00:07,  5.78it/s]\u001b[A\n",
            "Repeat:  57%|█████▋    | 57/100 [00:11<00:07,  5.76it/s]\u001b[A\n",
            "Repeat:  58%|█████▊    | 58/100 [00:11<00:07,  5.81it/s]\u001b[A\n",
            "Repeat:  59%|█████▉    | 59/100 [00:11<00:07,  5.61it/s]\u001b[A\n",
            "Repeat:  60%|██████    | 60/100 [00:12<00:06,  5.73it/s]\u001b[A\n",
            "Repeat:  61%|██████    | 61/100 [00:12<00:06,  5.73it/s]\u001b[A\n",
            "Repeat:  62%|██████▏   | 62/100 [00:12<00:06,  5.77it/s]\u001b[A\n",
            "Repeat:  63%|██████▎   | 63/100 [00:12<00:06,  5.67it/s]\u001b[A\n",
            "Repeat:  64%|██████▍   | 64/100 [00:12<00:06,  5.79it/s]\u001b[A\n",
            "Repeat:  65%|██████▌   | 65/100 [00:12<00:06,  5.62it/s]\u001b[A\n",
            "Repeat:  66%|██████▌   | 66/100 [00:13<00:05,  5.73it/s]\u001b[A\n",
            "Repeat:  67%|██████▋   | 67/100 [00:13<00:05,  5.83it/s]\u001b[A\n",
            "Repeat:  68%|██████▊   | 68/100 [00:13<00:05,  5.69it/s]\u001b[A\n",
            "Repeat:  69%|██████▉   | 69/100 [00:13<00:05,  5.75it/s]\u001b[A\n",
            "Repeat:  70%|███████   | 70/100 [00:13<00:05,  5.65it/s]\u001b[A\n",
            "Repeat:  71%|███████   | 71/100 [00:14<00:05,  5.65it/s]\u001b[A\n",
            "Repeat:  72%|███████▏  | 72/100 [00:14<00:05,  4.79it/s]\u001b[A\n",
            "Repeat:  73%|███████▎  | 73/100 [00:14<00:06,  4.35it/s]\u001b[A\n",
            "Repeat:  74%|███████▍  | 74/100 [00:14<00:06,  4.00it/s]\u001b[A\n",
            "Repeat:  75%|███████▌  | 75/100 [00:15<00:06,  3.84it/s]\u001b[A\n",
            "Repeat:  76%|███████▌  | 76/100 [00:15<00:06,  3.70it/s]\u001b[A\n",
            "Repeat:  77%|███████▋  | 77/100 [00:15<00:06,  3.64it/s]\u001b[A\n",
            "Repeat:  78%|███████▊  | 78/100 [00:16<00:06,  3.52it/s]\u001b[A\n",
            "Repeat:  79%|███████▉  | 79/100 [00:16<00:05,  3.55it/s]\u001b[A\n",
            "Repeat:  80%|████████  | 80/100 [00:16<00:05,  3.56it/s]\u001b[A\n",
            "Repeat:  81%|████████  | 81/100 [00:16<00:05,  3.53it/s]\u001b[A\n",
            "Repeat:  82%|████████▏ | 82/100 [00:17<00:05,  3.55it/s]\u001b[A\n",
            "Repeat:  83%|████████▎ | 83/100 [00:17<00:04,  3.56it/s]\u001b[A\n",
            "Repeat:  84%|████████▍ | 84/100 [00:17<00:04,  3.71it/s]\u001b[A\n",
            "Repeat:  85%|████████▌ | 85/100 [00:17<00:03,  4.02it/s]\u001b[A\n",
            "Repeat:  86%|████████▌ | 86/100 [00:18<00:03,  4.47it/s]\u001b[A\n",
            "Repeat:  87%|████████▋ | 87/100 [00:18<00:02,  4.82it/s]\u001b[A\n",
            "Repeat:  88%|████████▊ | 88/100 [00:18<00:02,  5.10it/s]\u001b[A\n",
            "Repeat:  89%|████████▉ | 89/100 [00:18<00:02,  5.31it/s]\u001b[A\n",
            "Repeat:  90%|█████████ | 90/100 [00:18<00:01,  5.47it/s]\u001b[A\n",
            "Repeat:  91%|█████████ | 91/100 [00:18<00:01,  5.37it/s]\u001b[A\n",
            "Repeat:  92%|█████████▏| 92/100 [00:19<00:01,  5.53it/s]\u001b[A\n",
            "Repeat:  93%|█████████▎| 93/100 [00:19<00:01,  5.72it/s]\u001b[A\n",
            "Repeat:  94%|█████████▍| 94/100 [00:19<00:01,  5.69it/s]\u001b[A\n",
            "Repeat:  95%|█████████▌| 95/100 [00:19<00:00,  5.72it/s]\u001b[A\n",
            "Repeat:  96%|█████████▌| 96/100 [00:19<00:00,  5.68it/s]\u001b[A\n",
            "Repeat:  97%|█████████▋| 97/100 [00:19<00:00,  5.56it/s]\u001b[A\n",
            "Repeat:  98%|█████████▊| 98/100 [00:20<00:00,  5.66it/s]\u001b[A\n",
            "Repeat:  99%|█████████▉| 99/100 [00:20<00:00,  5.71it/s]\u001b[A\n",
            "Repeat: 100%|██████████| 100/100 [00:20<00:00,  4.88it/s]\n",
            "Problems: 1it [00:20, 20.51s/it]"
          ]
        },
        {
          "output_type": "stream",
          "name": "stdout",
          "text": [
            "\n",
            "\n",
            "Evaluating environment: MAB(nbArms: 9, arms: [B(0.01), B(0.02), B(0.3), B(0.4), B(0.5), B(0.6), B(0.795), B(0.8), B(0.805)], minArm: 0.01, maxArm: 0.805)\n",
            "- Adding policy #1 = {'archtype': <class '__main__.YourEpsilonGreedy'>, 'params': {}} ...\n",
            "  Creating this policy from a dictionnary 'self.cfg['policies'][0]' = {'archtype': <class '__main__.YourEpsilonGreedy'>, 'params': {}} ...\n",
            "\n",
            "\n",
            "\n",
            "- Evaluating policy #1/1: YourEpsilonGreedy ...\n"
          ]
        },
        {
          "output_type": "stream",
          "name": "stderr",
          "text": [
            "\n",
            "Repeat:   0%|          | 0/100 [00:00<?, ?it/s]\u001b[A\n",
            "\n",
            "Time t:   0%|          | 0/10000 [00:00<?, ?it/s]\u001b[A\u001b[A\n",
            "\n",
            "Time t: 100%|██████████| 10000/10000 [00:00<00:00, 57097.68it/s]\n"
          ]
        },
        {
          "output_type": "stream",
          "name": "stdout",
          "text": [
            "\n",
            "Estimated order by the policy YourEpsilonGreedy after 10000 steps: [0 2 1 8 4 7 3 5 6] ...\n",
            "  ==> Optimal arm identification: 98.76% (relative success)...\n",
            "  ==> Mean distance from optimal ordering: 58.02% (relative success)...\n"
          ]
        },
        {
          "output_type": "stream",
          "name": "stderr",
          "text": [
            "\n",
            "Repeat:   1%|          | 1/100 [00:00<00:19,  5.08it/s]\u001b[A\n",
            "Repeat:   2%|▏         | 2/100 [00:00<00:19,  5.08it/s]\u001b[A\n",
            "Repeat:   3%|▎         | 3/100 [00:00<00:18,  5.27it/s]\u001b[A\n",
            "Repeat:   4%|▍         | 4/100 [00:00<00:17,  5.52it/s]\u001b[A\n",
            "Repeat:   5%|▌         | 5/100 [00:00<00:16,  5.71it/s]\u001b[A\n",
            "Repeat:   6%|▌         | 6/100 [00:01<00:16,  5.79it/s]\u001b[A\n",
            "Repeat:   7%|▋         | 7/100 [00:01<00:16,  5.74it/s]\u001b[A\n",
            "Repeat:   8%|▊         | 8/100 [00:01<00:16,  5.48it/s]\u001b[A\n",
            "Repeat:   9%|▉         | 9/100 [00:01<00:16,  5.62it/s]\u001b[A\n",
            "Repeat:  10%|█         | 10/100 [00:01<00:15,  5.72it/s]\u001b[A\n",
            "Repeat:  11%|█         | 11/100 [00:01<00:15,  5.70it/s]\u001b[A\n",
            "Repeat:  12%|█▏        | 12/100 [00:02<00:15,  5.78it/s]\u001b[A\n",
            "Repeat:  13%|█▎        | 13/100 [00:02<00:14,  5.85it/s]\u001b[A\n",
            "Repeat:  14%|█▍        | 14/100 [00:02<00:15,  5.42it/s]\u001b[A\n",
            "Repeat:  15%|█▌        | 15/100 [00:02<00:15,  5.66it/s]\u001b[A\n",
            "Repeat:  16%|█▌        | 16/100 [00:02<00:14,  5.77it/s]\u001b[A\n",
            "Repeat:  17%|█▋        | 17/100 [00:03<00:14,  5.82it/s]\u001b[A\n",
            "Repeat:  18%|█▊        | 18/100 [00:03<00:13,  5.91it/s]\u001b[A\n",
            "Repeat:  19%|█▉        | 19/100 [00:03<00:14,  5.77it/s]\u001b[A\n",
            "Repeat:  20%|██        | 20/100 [00:03<00:14,  5.64it/s]\u001b[A\n",
            "Repeat:  21%|██        | 21/100 [00:03<00:13,  5.71it/s]\u001b[A\n",
            "Repeat:  22%|██▏       | 22/100 [00:03<00:13,  5.81it/s]\u001b[A\n",
            "Repeat:  23%|██▎       | 23/100 [00:04<00:13,  5.67it/s]\u001b[A\n",
            "Repeat:  24%|██▍       | 24/100 [00:04<00:13,  5.82it/s]\u001b[A\n",
            "Repeat:  25%|██▌       | 25/100 [00:04<00:13,  5.70it/s]\u001b[A\n",
            "Repeat:  26%|██▌       | 26/100 [00:04<00:13,  5.65it/s]\u001b[A\n",
            "Repeat:  27%|██▋       | 27/100 [00:04<00:12,  5.79it/s]\u001b[A\n",
            "Repeat:  28%|██▊       | 28/100 [00:04<00:12,  5.70it/s]\u001b[A\n",
            "Repeat:  29%|██▉       | 29/100 [00:05<00:12,  5.73it/s]\u001b[A\n",
            "Repeat:  30%|███       | 30/100 [00:05<00:12,  5.70it/s]\u001b[A\n",
            "Repeat:  31%|███       | 31/100 [00:05<00:12,  5.31it/s]\u001b[A\n",
            "Repeat:  32%|███▏      | 32/100 [00:05<00:12,  5.54it/s]\u001b[A\n",
            "Repeat:  33%|███▎      | 33/100 [00:05<00:11,  5.59it/s]\u001b[A\n",
            "Repeat:  34%|███▍      | 34/100 [00:06<00:11,  5.64it/s]\u001b[A\n",
            "Repeat:  35%|███▌      | 35/100 [00:06<00:11,  5.72it/s]\u001b[A\n",
            "Repeat:  36%|███▌      | 36/100 [00:06<00:11,  5.48it/s]\u001b[A\n",
            "Repeat:  37%|███▋      | 37/100 [00:06<00:11,  5.36it/s]\u001b[A\n",
            "Repeat:  38%|███▊      | 38/100 [00:06<00:11,  5.39it/s]\u001b[A\n",
            "Repeat:  39%|███▉      | 39/100 [00:06<00:10,  5.58it/s]\u001b[A\n",
            "Repeat:  40%|████      | 40/100 [00:07<00:10,  5.68it/s]\u001b[A\n",
            "Repeat:  41%|████      | 41/100 [00:07<00:12,  4.81it/s]\u001b[A\n",
            "Repeat:  42%|████▏     | 42/100 [00:07<00:13,  4.24it/s]\u001b[A\n",
            "Repeat:  43%|████▎     | 43/100 [00:07<00:14,  4.01it/s]\u001b[A\n",
            "Repeat:  44%|████▍     | 44/100 [00:08<00:14,  3.85it/s]\u001b[A\n",
            "Repeat:  45%|████▌     | 45/100 [00:08<00:14,  3.74it/s]\u001b[A\n",
            "Repeat:  46%|████▌     | 46/100 [00:08<00:14,  3.72it/s]\u001b[A\n",
            "Repeat:  47%|████▋     | 47/100 [00:09<00:14,  3.68it/s]\u001b[A\n",
            "Repeat:  48%|████▊     | 48/100 [00:09<00:14,  3.59it/s]\u001b[A\n",
            "Repeat:  49%|████▉     | 49/100 [00:09<00:14,  3.57it/s]\u001b[A\n",
            "Repeat:  50%|█████     | 50/100 [00:09<00:14,  3.48it/s]\u001b[A\n",
            "Repeat:  51%|█████     | 51/100 [00:10<00:14,  3.44it/s]\u001b[A\n",
            "Repeat:  52%|█████▏    | 52/100 [00:10<00:13,  3.58it/s]\u001b[A\n",
            "Repeat:  53%|█████▎    | 53/100 [00:10<00:11,  4.08it/s]\u001b[A\n",
            "Repeat:  54%|█████▍    | 54/100 [00:10<00:10,  4.42it/s]\u001b[A\n",
            "Repeat:  55%|█████▌    | 55/100 [00:11<00:09,  4.81it/s]\u001b[A\n",
            "Repeat:  56%|█████▌    | 56/100 [00:11<00:08,  5.08it/s]\u001b[A\n",
            "Repeat:  57%|█████▋    | 57/100 [00:11<00:08,  5.15it/s]\u001b[A\n",
            "Repeat:  58%|█████▊    | 58/100 [00:11<00:07,  5.32it/s]\u001b[A\n",
            "Repeat:  59%|█████▉    | 59/100 [00:11<00:07,  5.54it/s]\u001b[A\n",
            "Repeat:  60%|██████    | 60/100 [00:11<00:07,  5.45it/s]\u001b[A\n",
            "Repeat:  61%|██████    | 61/100 [00:12<00:06,  5.61it/s]\u001b[A\n",
            "Repeat:  62%|██████▏   | 62/100 [00:12<00:06,  5.72it/s]\u001b[A\n",
            "Repeat:  63%|██████▎   | 63/100 [00:12<00:06,  5.57it/s]\u001b[A\n",
            "Repeat:  64%|██████▍   | 64/100 [00:12<00:06,  5.72it/s]\u001b[A\n",
            "Repeat:  65%|██████▌   | 65/100 [00:12<00:06,  5.82it/s]\u001b[A\n",
            "Repeat:  66%|██████▌   | 66/100 [00:12<00:05,  5.79it/s]\u001b[A\n",
            "Repeat:  67%|██████▋   | 67/100 [00:13<00:05,  5.86it/s]\u001b[A\n",
            "Repeat:  68%|██████▊   | 68/100 [00:13<00:05,  5.86it/s]\u001b[A\n",
            "Repeat:  69%|██████▉   | 69/100 [00:13<00:05,  5.59it/s]\u001b[A\n",
            "Repeat:  70%|███████   | 70/100 [00:13<00:05,  5.75it/s]\u001b[A\n",
            "Repeat:  71%|███████   | 71/100 [00:13<00:05,  5.76it/s]\u001b[A\n",
            "Repeat:  72%|███████▏  | 72/100 [00:13<00:04,  5.66it/s]\u001b[A\n",
            "Repeat:  73%|███████▎  | 73/100 [00:14<00:04,  5.79it/s]\u001b[A\n",
            "Repeat:  74%|███████▍  | 74/100 [00:14<00:04,  5.62it/s]\u001b[A\n",
            "Repeat:  75%|███████▌  | 75/100 [00:14<00:04,  5.54it/s]\u001b[A\n",
            "Repeat:  76%|███████▌  | 76/100 [00:14<00:04,  5.69it/s]\u001b[A\n",
            "Repeat:  77%|███████▋  | 77/100 [00:14<00:04,  5.68it/s]\u001b[A\n",
            "Repeat:  78%|███████▊  | 78/100 [00:15<00:03,  5.67it/s]\u001b[A\n",
            "Repeat:  79%|███████▉  | 79/100 [00:15<00:03,  5.75it/s]\u001b[A\n",
            "Repeat:  80%|████████  | 80/100 [00:15<00:03,  5.66it/s]\u001b[A\n",
            "Repeat:  81%|████████  | 81/100 [00:15<00:03,  5.71it/s]\u001b[A\n",
            "Repeat:  82%|████████▏ | 82/100 [00:15<00:03,  5.85it/s]\u001b[A\n",
            "Repeat:  83%|████████▎ | 83/100 [00:15<00:02,  5.76it/s]\u001b[A\n",
            "Repeat:  84%|████████▍ | 84/100 [00:16<00:02,  5.67it/s]\u001b[A\n",
            "Repeat:  85%|████████▌ | 85/100 [00:16<00:02,  5.63it/s]\u001b[A\n",
            "Repeat:  86%|████████▌ | 86/100 [00:16<00:02,  5.47it/s]\u001b[A\n",
            "Repeat:  87%|████████▋ | 87/100 [00:16<00:02,  5.65it/s]\u001b[A\n",
            "Repeat:  88%|████████▊ | 88/100 [00:16<00:02,  5.74it/s]\u001b[A\n",
            "Repeat:  89%|████████▉ | 89/100 [00:16<00:01,  5.69it/s]\u001b[A\n",
            "Repeat:  90%|█████████ | 90/100 [00:17<00:01,  5.73it/s]\u001b[A\n",
            "Repeat:  91%|█████████ | 91/100 [00:17<00:01,  5.70it/s]\u001b[A\n",
            "Repeat:  92%|█████████▏| 92/100 [00:17<00:01,  5.67it/s]\u001b[A\n",
            "Repeat:  93%|█████████▎| 93/100 [00:17<00:01,  5.73it/s]\u001b[A\n",
            "Repeat:  94%|█████████▍| 94/100 [00:17<00:01,  5.84it/s]\u001b[A\n",
            "Repeat:  95%|█████████▌| 95/100 [00:18<00:00,  5.66it/s]\u001b[A\n",
            "Repeat:  96%|█████████▌| 96/100 [00:18<00:00,  5.74it/s]\u001b[A\n",
            "Repeat:  97%|█████████▋| 97/100 [00:18<00:00,  5.66it/s]\u001b[A\n",
            "Repeat:  98%|█████████▊| 98/100 [00:18<00:00,  5.73it/s]\u001b[A\n",
            "Repeat:  99%|█████████▉| 99/100 [00:18<00:00,  5.81it/s]\u001b[A\n",
            "Repeat: 100%|██████████| 100/100 [00:18<00:00,  5.29it/s]\n",
            "Problems: 2it [00:39, 19.57s/it]"
          ]
        },
        {
          "output_type": "stream",
          "name": "stdout",
          "text": [
            "\n",
            "\n",
            "Evaluating environment: MAB(nbArms: 9, arms: [B(0.01), B(0.01), B(0.01), B(0.02), B(0.02), B(0.02), B(0.05), B(0.05), B(0.1)], minArm: 0.01, maxArm: 0.1)\n",
            "- Adding policy #1 = {'archtype': <class '__main__.YourEpsilonGreedy'>, 'params': {}} ...\n",
            "  Creating this policy from a dictionnary 'self.cfg['policies'][0]' = {'archtype': <class '__main__.YourEpsilonGreedy'>, 'params': {}} ...\n",
            "\n",
            "\n",
            "\n",
            "- Evaluating policy #1/1: YourEpsilonGreedy ...\n"
          ]
        },
        {
          "output_type": "stream",
          "name": "stderr",
          "text": [
            "\n",
            "Repeat:   0%|          | 0/100 [00:00<?, ?it/s]\u001b[A\n",
            "\n",
            "Time t:   0%|          | 0/10000 [00:00<?, ?it/s]\u001b[A\u001b[A\n",
            "\n",
            "Time t: 100%|██████████| 10000/10000 [00:00<00:00, 51059.20it/s]\n",
            "\n",
            "Repeat:   1%|          | 1/100 [00:00<00:21,  4.64it/s]\u001b[A\n",
            "Repeat:   2%|▏         | 2/100 [00:00<00:18,  5.24it/s]\u001b[A"
          ]
        },
        {
          "output_type": "stream",
          "name": "stdout",
          "text": [
            "\n",
            "Estimated order by the policy YourEpsilonGreedy after 10000 steps: [2 8 5 4 0 7 6 3 1] ...\n",
            "  ==> Optimal arm identification: 10.00% (relative success)...\n",
            "  ==> Mean distance from optimal ordering: 24.07% (relative success)...\n"
          ]
        },
        {
          "output_type": "stream",
          "name": "stderr",
          "text": [
            "\n",
            "Repeat:   3%|▎         | 3/100 [00:00<00:19,  4.90it/s]\u001b[A\n",
            "Repeat:   4%|▍         | 4/100 [00:00<00:18,  5.29it/s]\u001b[A\n",
            "Repeat:   5%|▌         | 5/100 [00:00<00:17,  5.45it/s]\u001b[A\n",
            "Repeat:   6%|▌         | 6/100 [00:01<00:17,  5.44it/s]\u001b[A\n",
            "Repeat:   7%|▋         | 7/100 [00:01<00:16,  5.61it/s]\u001b[A\n",
            "Repeat:   8%|▊         | 8/100 [00:01<00:16,  5.55it/s]\u001b[A\n",
            "Repeat:   9%|▉         | 9/100 [00:01<00:18,  5.01it/s]\u001b[A\n",
            "Repeat:  10%|█         | 10/100 [00:02<00:20,  4.45it/s]\u001b[A\n",
            "Repeat:  11%|█         | 11/100 [00:02<00:21,  4.14it/s]\u001b[A\n",
            "Repeat:  12%|█▏        | 12/100 [00:02<00:22,  3.97it/s]\u001b[A\n",
            "Repeat:  13%|█▎        | 13/100 [00:02<00:22,  3.92it/s]\u001b[A\n",
            "Repeat:  14%|█▍        | 14/100 [00:03<00:21,  3.95it/s]\u001b[A\n",
            "Repeat:  15%|█▌        | 15/100 [00:03<00:22,  3.83it/s]\u001b[A\n",
            "Repeat:  16%|█▌        | 16/100 [00:03<00:22,  3.72it/s]\u001b[A\n",
            "Repeat:  17%|█▋        | 17/100 [00:03<00:22,  3.68it/s]\u001b[A\n",
            "Repeat:  18%|█▊        | 18/100 [00:04<00:22,  3.57it/s]\u001b[A\n",
            "Repeat:  19%|█▉        | 19/100 [00:04<00:23,  3.52it/s]\u001b[A\n",
            "Repeat:  20%|██        | 20/100 [00:04<00:22,  3.54it/s]\u001b[A\n",
            "Repeat:  21%|██        | 21/100 [00:04<00:19,  3.96it/s]\u001b[A\n",
            "Repeat:  22%|██▏       | 22/100 [00:05<00:17,  4.43it/s]\u001b[A\n",
            "Repeat:  23%|██▎       | 23/100 [00:05<00:16,  4.72it/s]\u001b[A\n",
            "Repeat:  24%|██▍       | 24/100 [00:05<00:15,  4.88it/s]\u001b[A\n",
            "Repeat:  25%|██▌       | 25/100 [00:05<00:14,  5.18it/s]\u001b[A\n",
            "Repeat:  26%|██▌       | 26/100 [00:05<00:13,  5.44it/s]\u001b[A\n",
            "Repeat:  27%|██▋       | 27/100 [00:06<00:13,  5.54it/s]\u001b[A\n",
            "Repeat:  28%|██▊       | 28/100 [00:06<00:12,  5.69it/s]\u001b[A\n",
            "Repeat:  29%|██▉       | 29/100 [00:06<00:12,  5.63it/s]\u001b[A\n",
            "Repeat:  30%|███       | 30/100 [00:06<00:12,  5.58it/s]\u001b[A\n",
            "Repeat:  31%|███       | 31/100 [00:06<00:12,  5.69it/s]\u001b[A\n",
            "Repeat:  32%|███▏      | 32/100 [00:06<00:11,  5.73it/s]\u001b[A\n",
            "Repeat:  33%|███▎      | 33/100 [00:07<00:11,  5.80it/s]\u001b[A\n",
            "Repeat:  34%|███▍      | 34/100 [00:07<00:11,  5.84it/s]\u001b[A\n",
            "Repeat:  35%|███▌      | 35/100 [00:07<00:11,  5.76it/s]\u001b[A\n",
            "Repeat:  36%|███▌      | 36/100 [00:07<00:11,  5.57it/s]\u001b[A\n",
            "Repeat:  37%|███▋      | 37/100 [00:07<00:11,  5.69it/s]\u001b[A\n",
            "Repeat:  38%|███▊      | 38/100 [00:07<00:10,  5.76it/s]\u001b[A\n",
            "Repeat:  39%|███▉      | 39/100 [00:08<00:10,  5.76it/s]\u001b[A\n",
            "Repeat:  40%|████      | 40/100 [00:08<00:10,  5.76it/s]\u001b[A\n",
            "Repeat:  41%|████      | 41/100 [00:08<00:10,  5.48it/s]\u001b[A\n",
            "Repeat:  42%|████▏     | 42/100 [00:08<00:10,  5.53it/s]\u001b[A\n",
            "Repeat:  43%|████▎     | 43/100 [00:08<00:10,  5.61it/s]\u001b[A\n",
            "Repeat:  44%|████▍     | 44/100 [00:09<00:10,  5.57it/s]\u001b[A\n",
            "Repeat:  45%|████▌     | 45/100 [00:09<00:09,  5.71it/s]\u001b[A\n",
            "Repeat:  46%|████▌     | 46/100 [00:09<00:09,  5.76it/s]\u001b[A\n",
            "Repeat:  47%|████▋     | 47/100 [00:09<00:09,  5.53it/s]\u001b[A\n",
            "Repeat:  48%|████▊     | 48/100 [00:09<00:09,  5.70it/s]\u001b[A\n",
            "Repeat:  49%|████▉     | 49/100 [00:09<00:08,  5.70it/s]\u001b[A\n",
            "Repeat:  50%|█████     | 50/100 [00:10<00:08,  5.81it/s]\u001b[A\n",
            "Repeat:  51%|█████     | 51/100 [00:10<00:08,  5.82it/s]\u001b[A\n",
            "Repeat:  52%|█████▏    | 52/100 [00:10<00:08,  5.88it/s]\u001b[A\n",
            "Repeat:  53%|█████▎    | 53/100 [00:10<00:08,  5.63it/s]\u001b[A\n",
            "Repeat:  54%|█████▍    | 54/100 [00:10<00:08,  5.70it/s]\u001b[A\n",
            "Repeat:  55%|█████▌    | 55/100 [00:10<00:07,  5.79it/s]\u001b[A\n",
            "Repeat:  56%|█████▌    | 56/100 [00:11<00:07,  5.81it/s]\u001b[A\n",
            "Repeat:  57%|█████▋    | 57/100 [00:11<00:07,  5.89it/s]\u001b[A\n",
            "Repeat:  58%|█████▊    | 58/100 [00:11<00:07,  5.86it/s]\u001b[A\n",
            "Repeat:  59%|█████▉    | 59/100 [00:11<00:07,  5.60it/s]\u001b[A\n",
            "Repeat:  60%|██████    | 60/100 [00:11<00:06,  5.72it/s]\u001b[A\n",
            "Repeat:  61%|██████    | 61/100 [00:11<00:06,  5.82it/s]\u001b[A\n",
            "Repeat:  62%|██████▏   | 62/100 [00:12<00:06,  5.81it/s]\u001b[A\n",
            "Repeat:  63%|██████▎   | 63/100 [00:12<00:06,  5.85it/s]\u001b[A\n",
            "Repeat:  64%|██████▍   | 64/100 [00:12<00:06,  5.70it/s]\u001b[A\n",
            "Repeat:  65%|██████▌   | 65/100 [00:12<00:06,  5.50it/s]\u001b[A\n",
            "Repeat:  66%|██████▌   | 66/100 [00:12<00:06,  5.61it/s]\u001b[A\n",
            "Repeat:  67%|██████▋   | 67/100 [00:13<00:05,  5.62it/s]\u001b[A\n",
            "Repeat:  68%|██████▊   | 68/100 [00:13<00:05,  5.77it/s]\u001b[A\n",
            "Repeat:  69%|██████▉   | 69/100 [00:13<00:05,  5.86it/s]\u001b[A\n",
            "Repeat:  70%|███████   | 70/100 [00:13<00:05,  5.75it/s]\u001b[A\n",
            "Repeat:  71%|███████   | 71/100 [00:13<00:05,  5.72it/s]\u001b[A\n",
            "Repeat:  72%|███████▏  | 72/100 [00:13<00:04,  5.73it/s]\u001b[A\n",
            "Repeat:  73%|███████▎  | 73/100 [00:14<00:04,  5.81it/s]\u001b[A\n",
            "Repeat:  74%|███████▍  | 74/100 [00:14<00:04,  5.93it/s]\u001b[A\n",
            "Repeat:  75%|███████▌  | 75/100 [00:14<00:04,  5.94it/s]\u001b[A\n",
            "Repeat:  76%|███████▌  | 76/100 [00:14<00:04,  5.80it/s]\u001b[A\n",
            "Repeat:  77%|███████▋  | 77/100 [00:14<00:04,  5.66it/s]\u001b[A\n",
            "Repeat:  78%|███████▊  | 78/100 [00:14<00:04,  5.38it/s]\u001b[A\n",
            "Repeat:  79%|███████▉  | 79/100 [00:15<00:04,  4.69it/s]\u001b[A\n",
            "Repeat:  80%|████████  | 80/100 [00:15<00:04,  4.29it/s]\u001b[A\n",
            "Repeat:  81%|████████  | 81/100 [00:15<00:04,  3.99it/s]\u001b[A\n",
            "Repeat:  82%|████████▏ | 82/100 [00:16<00:04,  3.95it/s]\u001b[A\n",
            "Repeat:  83%|████████▎ | 83/100 [00:16<00:04,  3.93it/s]\u001b[A\n",
            "Repeat:  84%|████████▍ | 84/100 [00:16<00:04,  3.81it/s]\u001b[A\n",
            "Repeat:  85%|████████▌ | 85/100 [00:16<00:04,  3.68it/s]\u001b[A\n",
            "Repeat:  86%|████████▌ | 86/100 [00:17<00:03,  3.69it/s]\u001b[A\n",
            "Repeat:  87%|████████▋ | 87/100 [00:17<00:03,  3.58it/s]\u001b[A\n",
            "Repeat:  88%|████████▊ | 88/100 [00:17<00:03,  3.60it/s]\u001b[A\n",
            "Repeat:  89%|████████▉ | 89/100 [00:18<00:03,  3.54it/s]\u001b[A\n",
            "Repeat:  90%|█████████ | 90/100 [00:18<00:02,  3.52it/s]\u001b[A\n",
            "Repeat:  91%|█████████ | 91/100 [00:18<00:02,  3.94it/s]\u001b[A\n",
            "Repeat:  92%|█████████▏| 92/100 [00:18<00:01,  4.37it/s]\u001b[A\n",
            "Repeat:  93%|█████████▎| 93/100 [00:18<00:01,  4.73it/s]\u001b[A\n",
            "Repeat:  94%|█████████▍| 94/100 [00:19<00:01,  4.89it/s]\u001b[A\n",
            "Repeat:  95%|█████████▌| 95/100 [00:19<00:00,  5.19it/s]\u001b[A\n",
            "Repeat:  96%|█████████▌| 96/100 [00:19<00:00,  5.35it/s]\u001b[A\n",
            "Repeat:  97%|█████████▋| 97/100 [00:19<00:00,  5.22it/s]\u001b[A\n",
            "Repeat:  98%|█████████▊| 98/100 [00:19<00:00,  5.46it/s]\u001b[A\n",
            "Repeat:  99%|█████████▉| 99/100 [00:19<00:00,  5.41it/s]\u001b[A\n",
            "Repeat: 100%|██████████| 100/100 [00:20<00:00,  4.98it/s]\n",
            "Problems: 3it [00:59, 19.84s/it]\n"
          ]
        }
      ],
      "source": [
        "for envId, env in tqdm(enumerate(evaluation.envs), desc=\"Problems\"):\n",
        "    # Evaluate just that env\n",
        "    evaluation.startOneEnv(envId, env)"
      ],
      "id": "bUxHHQz7rnxZ"
    },
    {
      "cell_type": "code",
      "execution_count": null,
      "metadata": {
        "id": "PnmRe4RNrnxZ"
      },
      "outputs": [],
      "source": [
        "def plotAll(evaluation, envId):\n",
        "    evaluation.printFinalRanking(envId)\n",
        "    evaluation.plotRegrets(envId)"
      ],
      "id": "PnmRe4RNrnxZ"
    },
    {
      "cell_type": "code",
      "execution_count": null,
      "metadata": {
        "colab": {
          "base_uri": "https://localhost:8080/",
          "height": 1000
        },
        "outputId": "df3a21de-934c-4f9b-fb5b-c29906cbf56f",
        "id": "oLYHlkWmrnxZ"
      },
      "outputs": [
        {
          "output_type": "stream",
          "name": "stdout",
          "text": [
            "\n",
            "Giving the final ranks ...\n",
            "\n",
            "Final ranking for this environment #2 : (using less accurate estimate of the regret)\n",
            "- Policy 'YourEpsilonGreedy'\twas ranked\t1 / 1 for this simulation\n",
            "\t(last regret = 821.89,\ttotal regret = 823.91,\ttotal reward = 177.68,\ttotal weighted selection = 176.09).\n",
            "\n",
            "This MAB problem has: \n",
            " - a [Lai & Robbins] complexity constant C(mu) = 14.5 for 1-player problem... \n",
            " - a Optimal Arm Identification factor H_OI(mu) = 82.11% ...\n"
          ]
        },
        {
          "output_type": "display_data",
          "data": {
            "text/plain": [
              "<Figure size 1920x1080 with 1 Axes>"
            ],
            "image/png": "[encoded data removed]"
          },
          "metadata": {}
        }
      ],
      "source": [
        "envId = 2\n",
        "plotAll(evaluation, envId)"
      ],
      "id": "oLYHlkWmrnxZ"
    }
  ],
  "metadata": {
    "kernelspec": {
      "display_name": "Python 3 (ipykernel)",
      "language": "python",
      "name": "python3"
    },
    "language_info": {
      "codemirror_mode": {
        "name": "ipython",
        "version": 3
      },
      "file_extension": ".py",
      "mimetype": "text/x-python",
      "name": "python",
      "nbconvert_exporter": "python",
      "pygments_lexer": "ipython3",
      "version": "3.8.18"
    },
    "colab": {
      "provenance": [],
      "collapsed_sections": [
        "AiRD2vTxrgDc"
      ]
    }
  },
  "nbformat": 4,
  "nbformat_minor": 5
}